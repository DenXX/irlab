{
 "cells": [
  {
   "cell_type": "code",
   "execution_count": 20,
   "metadata": {
    "collapsed": true
   },
   "outputs": [],
   "source": [
    "from __future__ import print_function\n",
    "\n",
    "import numpy as np\n",
    "import matplotlib.mlab as mlab\n",
    "import matplotlib.pyplot as plt\n",
    "\n",
    "BASE_PATH = \"/home/dsavenk/Projects/octiron/\"\n",
    "LIVEQA_DATA_PATH = BASE_PATH + \"data/liveqa/\"\n",
    "LIVEQA_RESULTS_DATA_PATH = LIVEQA_DATA_PATH + \"results_15/\"\n",
    "JUDGED_RESULTS_FILE = LIVEQA_RESULTS_DATA_PATH + \"emory-Out-of-mEmory\"\n",
    "ANSWERS_FILE = LIVEQA_RESULTS_DATA_PATH + \"emory-answers\""
   ]
  },
  {
   "cell_type": "code",
   "execution_count": 36,
   "metadata": {
    "collapsed": false
   },
   "outputs": [],
   "source": [
    "import csv\n",
    "\n",
    "def read_tsv_file(file_path, key_field_extractor):\n",
    "    answers = dict()\n",
    "    with open(file_path, 'r') as input_file:\n",
    "        input_tsv = csv.DictReader(input_file, delimiter='\\t')\n",
    "        for row in input_tsv:\n",
    "            answers[key_field_extractor(row)] = row\n",
    "    return answers\n",
    "\n",
    "def read_judged_results_file(file_path):\n",
    "    return read_tsv_file(file_path, lambda row: row[\"QID\"])\n",
    "\n",
    "def read_answers_file(file_path):\n",
    "    return read_tsv_file(file_path, lambda row: row[\"QID\"][3:])\n",
    "\n",
    "def get_ya_web_scores(judged_results, answers):\n",
    "    scores = {\"ya\": [], \"web\": [], \"idon'tknow\": []}\n",
    "    for qid, result in judged_results.iteritems():\n",
    "        answer = answers[qid]\n",
    "        url = answer[\"RESOURCES\"]\n",
    "        is_yahoo_answers = \"ya\" if \"answers.yahoo.com\" in url else \"web\" if url else \"idon'tknow\"\n",
    "        scores[is_yahoo_answers].append(int(result[\"SCORE\"]))\n",
    "    return scores"
   ]
  },
  {
   "cell_type": "code",
   "execution_count": 37,
   "metadata": {
    "collapsed": false
   },
   "outputs": [],
   "source": [
    "judged_results = read_judged_results_file(JUDGED_RESULTS_FILE)\n",
    "answers = read_answers_file(ANSWERS_FILE)\n",
    "scores = get_ya_web_scores(judged_results, answers)"
   ]
  },
  {
   "cell_type": "code",
   "execution_count": 46,
   "metadata": {
    "collapsed": false
   },
   "outputs": [
    {
     "name": "stdout",
     "output_type": "stream",
     "text": [
      "# Number of answers\n",
      "Yahoo!Answers: 513\tWeb:340\tNo answer:31\n",
      "# Average score:\n",
      "Yahoo!Answers: 1.95712\tWeb:1.50000\n",
      "# Number of answers with score > 2\n",
      "Yahoo!Answers: 153\tWeb:53\n"
     ]
    },
    {
     "data": {
      "image/png": "[encoded data removed]",
      "text/plain": [
       "<matplotlib.figure.Figure at 0x7fcee9925bd0>"
      ]
     },
     "metadata": {},
     "output_type": "display_data"
    },
    {
     "data": {
      "image/png": "[encoded data removed]",
      "text/plain": [
       "<matplotlib.figure.Figure at 0x7fcee97e2450>"
      ]
     },
     "metadata": {},
     "output_type": "display_data"
    }
   ],
   "source": [
    "print(\"# Number of answers\\nYahoo!Answers: %d\\tWeb:%d\\tNo answer:%d\" % (len(scores[\"ya\"]), len(scores[\"web\"]), len(scores[\"idon'tknow\"])))\n",
    "print(\"# Average score:\\nYahoo!Answers: %.5f\\tWeb:%.5f\" % (1.0 * sum(scores[\"ya\"]) / len(scores[\"ya\"]), 1.0 * sum(scores[\"web\"]) / len(scores[\"web\"])))\n",
    "print(\"# Number of answers with score > 2\\nYahoo!Answers: %d\\tWeb:%d\" % (len([score for score in scores[\"ya\"] if score > 2]), len([score for score in scores[\"web\"] if score > 2])))\n",
    "\n",
    "# the histogram of the data\n",
    "%matplotlib inline\n",
    "plt.hist((scores[\"ya\"], scores[\"web\"]), bins=range(-2, 6), color=('green', 'red'), alpha=0.5, label=(\"Yahoo! Answers\", \"Web passages\"))\n",
    "plt.xlabel('Score')\n",
    "plt.title('Histogram of scores per source type')\n",
    "plt.legend()\n",
    "plt.grid(True)\n",
    "\n",
    "plt.figure()\n",
    "plt.hist((scores[\"ya\"], scores[\"web\"]), normed=True, bins=range(-2, 6), color=('green', 'red'), alpha=0.5, label=(\"Yahoo! Answers\", \"Web passages\"))\n",
    "plt.xlabel('Score')\n",
    "plt.title('Norlamized histogram of scores per source type')\n",
    "plt.legend()\n",
    "plt.grid(True)\n",
    "\n",
    "plt.show()"
   ]
  },
  {
   "cell_type": "code",
   "execution_count": 62,
   "metadata": {
    "collapsed": false,
    "scrolled": false
   },
   "outputs": [
    {
     "name": "stdout",
     "output_type": "stream",
     "text": [
      "('answers.yahoo.com', [509, [2, 4, 4, 2, 4, 4, 1, 2, 2, 1, 3, 2, 2, 1, 3, 1, 1, 1, 1, 2, 1, 4, 2, 4, 1, 1, 2, 1, 1, 1, 1, 1, 2, 1, 2, 4, 1, 1, 4, 2, 3, 1, 3, 1, 1, 1, 2, 1, 1, 4, 1, 1, 4, 1, 3, 2, 4, 4, 1, 1, 3, 1, 4, 4, 2, 4, 2, 3, 4, 3, 1, 4, 1, 1, 2, 2, 1, 4, 2, 3, 3, 1, 2, 1, 2, 2, 1, 1, 4, 1, 2, 1, 4, 4, 1, 1, 2, 3, 3, 1, 4, 1, 4, 2, 1, 1, 1, 2, 1, 2, 3, 4, 1, 4, 1, 4, 3, 3, 1, 3, 3, 2, 1, 2, 1, 1, 1, 1, 2, 1, 1, 4, 2, 1, 4, 1, 4, 1, 1, 1, 4, 1, 1, 3, 2, 1, 1, 3, 3, 2, 3, 1, 1, 1, 1, 1, 4, 4, 2, 1, 3, 1, 2, 3, 1, 1, 2, 1, 1, 1, 4, 2, 1, 4, 2, 2, 1, 2, 1, 1, 1, 3, 1, 1, 1, 2, 4, 1, 2, 1, 1, 1, 1, 1, 2, 1, 2, 1, 1, 1, 3, 3, 1, 1, 3, 3, 1, 1, 3, 4, 3, 1, 3, 1, 2, 2, 4, 3, 3, 1, 1, 3, 1, 2, 2, 4, 2, 1, 1, 4, 1, 2, 4, 1, 4, 2, 4, 1, 2, 1, 4, 2, 1, 1, 4, 1, 3, 2, 4, 1, 1, 4, 1, 3, 1, 1, 3, 1, 1, 4, 1, 1, 2, 3, 1, 1, 3, 2, 1, 4, 1, 3, 4, 2, 1, 3, 4, 2, 4, 1, 1, 4, 1, 1, 3, 1, 2, 1, 2, 2, 1, 4, 1, 1, 2, 2, 3, 2, 4, 1, 2, 2, 4, 3, 1, 1, 1, 2, 3, 2, 1, 2, 3, 1, 1, 1, 2, 3, 1, 1, 1, 3, 2, 1, 1, 2, 3, 3, 1, 2, 1, 2, 3, 2, 3, 1, 3, 1, 2, 1, 1, 1, 1, 3, 3, 2, 4, 4, 4, 2, 1, 4, 4, 1, 3, 3, 4, 2, 3, 1, 1, 3, 1, 1, 2, 1, 4, 1, 1, 3, 1, 3, 3, 2, 2, 2, 3, 1, 1, 4, 1, 1, 1, 4, 2, 2, 1, 3, 1, 2, 1, 1, 4, 3, 1, 1, 2, 2, 3, 2, 4, 1, 1, 1, 1, 2, 3, 1, 2, 2, 1, 1, 3, 1, 3, 2, 2, 1, 1, 1, 1, 1, 1, 3, 3, 1, 2, 1, 1, 1, 2, 2, 1, 1, 2, 1, 2, 1, 2, 1, 4, 1, 1, 2, 1, 3, 3, 3, 1, 1, 4, 3, 1, 1, 1, 1, 4, 1, 1, 1, 1, 1, 1, 1, 2, 1, 2, 3, 1, 1, 1, 1, 1, 4, 1, 3, 1, 2, 1, 1, 1, 1, 4, 3, 1, 2, 2, 2, 2, 1, 1, 1, 1, 3, 3, 1, 1, 3, 2, 1, 2, 1, 1, 1, 2, 1, 4, 2, 1]])\n",
      "('www.youtube.com', [10, [1, 3, 1, 1, 1, 1, 2, 2, 2, 1]])\n",
      "('www.livestrong.com', [7, [1, 1, 1, 4, 4, 4, 2]])\n",
      "('www.amazon.com', [6, [2, 2, 1, 1, 1, 3]])\n",
      "('www.wikihow.com', [5, [2, 1, 1, 1, 1]])\n",
      "('www.answers.com', [5, [1, 1, 1, 3, 1]])\n",
      "('www.ehow.com', [4, [2, 4, 2, 4]])\n",
      "('www.justanswer.com', [4, [1, 2, 1, 1]])\n",
      "('www.quora.com', [4, [1, 1, 1, 2]])\n",
      "('ask.metafilter.com', [3, [3, 4, 1]])\n",
      "('boards.straightdope.com', [3, [2, 2, 2]])\n",
      "('www.tomshardware.com', [3, [2, 1, 1]])\n",
      "('answers.microsoft.com', [3, [1, 1, 2]])\n",
      "('discussions.apple.com', [3, [1, 1, 1]])\n",
      "('www.calmclinic.com', [2, [2, 1]])\n",
      "('uk.answers.yahoo.com', [2, [2, 1]])\n",
      "('www.askmefast.com', [2, [1, 3]])\n",
      "('ehealthforum.com', [2, [1, 2]])\n",
      "('prowrestling.wikia.com', [2, [1, 2]])\n",
      "('smallbusiness.yahoo.com', [2, [1, 1]])\n"
     ]
    }
   ],
   "source": [
    "import operator\n",
    "answers_by_domain = dict()\n",
    "for qid, result in judged_results.iteritems():\n",
    "    answer = answers[qid]\n",
    "    url = answer[\"RESOURCES\"]\n",
    "    if url:\n",
    "        start = url.find(\"://\")\n",
    "        end = url.find(\"/\", start + 3)\n",
    "        if end == -1:\n",
    "            end = len(url) \n",
    "        domain = url[start + 3:end]\n",
    "        if domain not in answers_by_domain:\n",
    "            answers_by_domain[domain] = [0, []]\n",
    "        answers_by_domain[domain][0] += 1\n",
    "        answers_by_domain[domain][1].append(int(result[\"SCORE\"]))\n",
    "domains = sorted(answers_by_domain.items(), key=operator.itemgetter(1), reverse=True)\n",
    "print(\"\\n\".join(map(str, domains[:20])))"
   ]
  }
 ],
 "metadata": {
  "kernelspec": {
   "display_name": "Python 2",
   "language": "python",
   "name": "python2"
  },
  "language_info": {
   "codemirror_mode": {
    "name": "ipython",
    "version": 2
   },
   "file_extension": ".py",
   "mimetype": "text/x-python",
   "name": "python",
   "nbconvert_exporter": "python",
   "pygments_lexer": "ipython2",
   "version": "2.7.10"
  }
 },
 "nbformat": 4,
 "nbformat_minor": 0
}
